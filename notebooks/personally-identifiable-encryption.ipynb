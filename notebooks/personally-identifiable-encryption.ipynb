{
 "cells": [
  {
   "cell_type": "markdown",
   "id": "2eb9f74a",
   "metadata": {},
   "source": [
    "# City of Cape Town - Encryption of Personally Identifiable Information"
   ]
  },
  {
   "cell_type": "markdown",
   "id": "0c61ec55",
   "metadata": {},
   "source": [
    "## Introduction"
   ]
  },
  {
   "cell_type": "markdown",
   "id": "21c79ee8",
   "metadata": {},
   "source": [
    "As part of the City of Cape Town's [PoPIA](https://www.gov.za/sites/default/files/gcis_document/201409/3706726-11act4of2013protectionofpersonalinforcorrect.pdf) compliance, any information shared with outside parties that can identify a person will be encrypted, with the intention of anonymising that information, and so prevent that person from being identified.\n",
    "\n",
    "This notebook details the encryption scheme used to anonymise personally identifiable information. Other than enabling transparency about how the City is protecting the privacy of its residents, it should provide practical guidance for a 3rd party in performing a similar encryption. The intention of sharing this practical guidance is to assist trusted third parties (sub-operators in terms of PoPIA) in encrypting other data sets in a similar fashion, and so allow for comparisons across multiple datasets.\n",
    "\n",
    "We strongly encourage that all potentially personally identifiable data is encrypted both at rest and in transit, so as to avoid breaches of PoPIA.\n",
    "\n",
    "**NB** Such comparisons across datasets should be compatible with the intended use for which this data was collected, and with the explicit consent of the data subjects."
   ]
  },
  {
   "cell_type": "markdown",
   "id": "c9e078aa",
   "metadata": {},
   "source": [
    "## Encryption Scheme"
   ]
  },
  {
   "cell_type": "markdown",
   "id": "c9c92888",
   "metadata": {},
   "source": [
    "At the City, we use a [SHA-2 cryptographic function](https://en.wikipedia.org/wiki/SHA-2), with a `256` bit digest. In the future we reserve the right to move to stronger hashing functions, based upon on the best practice of the time.\n",
    "\n",
    "The hasing function is applied to each record that is considered as personally identifiably information, as well as a secret *salt* that will either be prefixed or suffixed onto the record. \n",
    "\n",
    "The sharing of either the *salt* or examples of the source record and it's resulting encrypted output constitutes disclosing the encryption scheme."
   ]
  },
  {
   "cell_type": "markdown",
   "id": "f79b988c",
   "metadata": {},
   "source": [
    "Psuedo-code example:\n",
    "```\n",
    "record = \"12345\"\n",
    "salt = \"my secret salt\"\n",
    "salted_record = salt + record\n",
    "\n",
    "\n",
    "encrypted_record = hex(\n",
    "  sha256(salted_record)\n",
    ") # \"ce6b30422b07a06f194657fddc1348e06c75cae43c4b714b6a3759a50bc2d50e\"\n",
    "```"
   ]
  },
  {
   "cell_type": "markdown",
   "id": "32693194",
   "metadata": {},
   "source": [
    "## Python example"
   ]
  },
  {
   "cell_type": "markdown",
   "id": "f7897f83",
   "metadata": {},
   "source": [
    "The example below uses the standard Python [`hashlib` library](https://docs.python.org/3/library/hashlib.html) to implement the above example."
   ]
  },
  {
   "cell_type": "code",
   "execution_count": 1,
   "id": "774957f6",
   "metadata": {},
   "outputs": [
    {
     "name": "stdout",
     "output_type": "stream",
     "text": [
      "Python 3.8.9\n"
     ]
    }
   ],
   "source": [
    "!python3 --version"
   ]
  },
  {
   "cell_type": "code",
   "execution_count": 2,
   "id": "0ce4e450",
   "metadata": {},
   "outputs": [
    {
     "name": "stdout",
     "output_type": "stream",
     "text": [
      "c26c7b35ab41b043b8558e94ae6d4b7205ba6e77270197e3cd4f14bcb7728491\n"
     ]
    }
   ],
   "source": [
    "import hashlib\n",
    "\n",
    "record = \"12345\"\n",
    "salt = \"my secret salt\"\n",
    "salted_record = f\"{salt}{record}\".encode() # Needs to be a byte string\n",
    "\n",
    "encrypted_record = hashlib.sha256(salted_record).hexdigest()\n",
    "print(encrypted_record)"
   ]
  }
 ],
 "metadata": {
  "kernelspec": {
   "display_name": "Python 3",
   "language": "python",
   "name": "python3"
  },
  "language_info": {
   "codemirror_mode": {
    "name": "ipython",
    "version": 3
   },
   "file_extension": ".py",
   "mimetype": "text/x-python",
   "name": "python",
   "nbconvert_exporter": "python",
   "pygments_lexer": "ipython3",
   "version": "3.8.9"
  }
 },
 "nbformat": 4,
 "nbformat_minor": 5
}
